{
  "nbformat": 4,
  "nbformat_minor": 0,
  "metadata": {
    "colab": {
      "provenance": [],
      "gpuType": "T4",
      "authorship_tag": "ABX9TyM51ZWBtzljrHwdAMoZFh4k",
      "include_colab_link": true
    },
    "kernelspec": {
      "name": "python3",
      "display_name": "Python 3"
    },
    "language_info": {
      "name": "python"
    },
    "accelerator": "GPU"
  },
  "cells": [
    {
      "cell_type": "markdown",
      "metadata": {
        "id": "view-in-github",
        "colab_type": "text"
      },
      "source": [
        "<a href=\"https://colab.research.google.com/github/imvktiwari/final_samudra_project/blob/main/muriltrain.ipynb\" target=\"_parent\"><img src=\"https://colab.research.google.com/assets/colab-badge.svg\" alt=\"Open In Colab\"/></a>"
      ]
    },
    {
      "cell_type": "code",
      "source": [
        "# Step 1: Import Necessary Libraries\n",
        "import pandas as pd\n",
        "import json\n",
        "import torch\n",
        "from transformers import AutoTokenizer, AutoModelForSequenceClassification, Trainer, TrainingArguments\n",
        "from sklearn.model_selection import train_test_split\n",
        "from sklearn.metrics import accuracy_score\n",
        "\n",
        "import os\n",
        "os.environ[\"WANDB_DISABLED\"] = \"true\"\n",
        "\n",
        "# Step 2: Load Your Data\n",
        "data = pd.read_parquet('/content/senti.parquet')  # Ensure the path is correct\n",
        "print(data.head())  # Inspect the first few rows of the dataset\n",
        "print(data.columns)  # Check the column names\n",
        "\n",
        "# Load the label mapping from the JSON file\n",
        "with open('/content/labels.json', 'r') as f:\n",
        "    labels = json.load(f)\n",
        "\n",
        "print(labels)  # Check the label mapping\n",
        "\n",
        "# Step 3: Preprocess Data (with padding and truncation)\n",
        "max_len = 128  # You can adjust this value based on your use case\n",
        "\n",
        "# Initialize the tokenizer for MuRIL\n",
        "tokenizer = AutoTokenizer.from_pretrained(\"google/muril-base-cased\")\n",
        "\n",
        "# Tokenize text with fixed padding and truncation\n",
        "def tokenize_function(text):\n",
        "    return tokenizer(\n",
        "        text,\n",
        "        padding='max_length',\n",
        "        truncation=True,\n",
        "        max_length=max_len,\n",
        "        return_tensors=\"pt\"\n",
        "    )\n",
        "\n",
        "# Apply the tokenizer to the 'Text' column\n",
        "data['inputs'] = data['Text'].apply(lambda x: tokenize_function(x))\n",
        "\n",
        "# Map sentiment labels to numerical values\n",
        "label_mapping = {'SP': 0, 'WP': 1, 'NU': 2, 'WN': 3, 'SN': 4}\n",
        "data['label'] = data['Polarity'].map(label_mapping)\n",
        "\n",
        "# Step 4: Train-test Split\n",
        "train_data, val_data = train_test_split(data, test_size=0.2, random_state=42)\n",
        "\n",
        "# Step 5: Create Custom Dataset Class\n",
        "class CustomDataset(torch.utils.data.Dataset):\n",
        "    def __init__(self, text_data, labels):\n",
        "        self.input_ids = torch.stack([item['input_ids'].squeeze() for item in text_data])\n",
        "        self.attention_masks = torch.stack([item['attention_mask'].squeeze() for item in text_data])\n",
        "        self.labels = torch.tensor(labels.tolist(), dtype=torch.long)\n",
        "\n",
        "    def __len__(self):\n",
        "        return len(self.labels)\n",
        "\n",
        "    def __getitem__(self, idx):\n",
        "        return {\n",
        "            'input_ids': self.input_ids[idx],\n",
        "            'attention_mask': self.attention_masks[idx],\n",
        "            'labels': self.labels[idx]\n",
        "        }\n",
        "\n",
        "# Create datasets\n",
        "train_dataset = CustomDataset(train_data['inputs'], train_data['label'])\n",
        "val_dataset = CustomDataset(val_data['inputs'], val_data['label'])\n",
        "\n",
        "# Step 6: Load the MuRIL Sequence Classification Model\n",
        "model = AutoModelForSequenceClassification.from_pretrained(\"google/muril-base-cased\", num_labels=5)\n",
        "\n",
        "# Freeze all BERT layers and ensure tensors are contiguous\n",
        "for param in model.bert.parameters():\n",
        "    param.requires_grad = False\n",
        "    param.data = param.data.contiguous()  # Ensure tensors are contiguous\n",
        "\n",
        "# Step 7: Define compute_metrics function for Trainer\n",
        "def compute_metrics(eval_pred):\n",
        "    logits, labels = eval_pred\n",
        "    # Convert logits and labels from NumPy arrays to PyTorch tensors\n",
        "    logits = torch.from_numpy(logits)\n",
        "    labels = torch.from_numpy(labels)\n",
        "    # Get predicted class with highest score\n",
        "    predictions = torch.argmax(logits, dim=-1)\n",
        "    # Compute accuracy using sklearn\n",
        "    accuracy = accuracy_score(labels.cpu().numpy(), predictions.cpu().numpy())  # Convert back to NumPy for accuracy\n",
        "    return {\"accuracy\": accuracy}\n",
        "\n",
        "\n",
        "# Step 8: Training arguments\n",
        "training_args = TrainingArguments(\n",
        "    output_dir='./results',\n",
        "    num_train_epochs=3,\n",
        "    per_device_train_batch_size=4,  # Adjust based on GPU capacity\n",
        "    gradient_accumulation_steps=2,  # Simulate larger batch sizes if needed\n",
        "    per_device_eval_batch_size=4,\n",
        "    warmup_steps=500,\n",
        "    weight_decay=0.01,\n",
        "    fp16=True,  # Mixed precision training for GPU memory optimization\n",
        "    logging_dir='./logs',\n",
        "    evaluation_strategy=\"epoch\",  # Evaluate after every epoch\n",
        ")\n",
        "\n",
        "# Step 9: Initialize Trainer\n",
        "trainer = Trainer(\n",
        "    model=model,\n",
        "    args=training_args,\n",
        "    train_dataset=train_dataset,\n",
        "    eval_dataset=val_dataset,\n",
        "    compute_metrics=compute_metrics  # Add the custom metrics function\n",
        ")\n",
        "\n",
        "# Step 10: Start training\n",
        "trainer.train()\n",
        "\n",
        "# Step 11: Evaluate the model on the validation set after training\n",
        "eval_results = trainer.evaluate()\n",
        "\n",
        "# Step 12: Print accuracy metrics\n",
        "print(f\"Validation Accuracy: {eval_results['eval_accuracy']:.4f}\")"
      ],
      "metadata": {
        "colab": {
          "base_uri": "https://localhost:8080/",
          "height": 643
        },
        "id": "orm6BSbLDTjm",
        "outputId": "ab9d8f9d-ca8f-4eac-f4ac-ce2d77783dda"
      },
      "execution_count": null,
      "outputs": [
        {
          "output_type": "stream",
          "name": "stdout",
          "text": [
            "                                 ID  \\\n",
            "0  7abbf5aeb011e883c0a47a5e299b371e   \n",
            "1  1089584daf51e3be29f985bcb935d1fa   \n",
            "2  1742705348624306b2a6e9c256213808   \n",
            "3  31aa85f5fd4918a960937825b226b597   \n",
            "4  37c5947791f4d1a787ba9b1111b0e87b   \n",
            "\n",
            "                                              Text Polarity    Domain  \n",
            "0  যাওয়ার সময় যেন স্বাস্থ্যমন্ত্রীকে সাথে নিয়ে যায়       NU  facebook  \n",
            "1              তার আগে যদি আপনি বিদায় নিতেন স্যার,       NU  facebook  \n",
            "2   রাষ্ট্রের তহবিল কি একেবারে তলানিতে গিয়ে ঠেকেছে       NU  facebook  \n",
            "3            সাথে আপনাকে চিপ গেস্ট হিসেবে নিয়ে যাক       NU  facebook  \n",
            "4     শ্রিপাকে ও রিমান্ডে নিয়ে জিজ্ঞাসাবাদ করা হোক       NU  facebook  \n",
            "Index(['ID', 'Text', 'Polarity', 'Domain'], dtype='object')\n",
            "{'SP': 'Strongly Positive', 'WP': 'Weakly Positive', 'NU': 'Neutral', 'WN': 'Weakly Negative', 'SN': 'Strongly Negative'}\n"
          ]
        },
        {
          "output_type": "stream",
          "name": "stderr",
          "text": [
            "/usr/local/lib/python3.10/dist-packages/transformers/tokenization_utils_base.py:1601: FutureWarning: `clean_up_tokenization_spaces` was not set. It will be set to `True` by default. This behavior will be depracted in transformers v4.45, and will be then set to `False` by default. For more details check this issue: https://github.com/huggingface/transformers/issues/31884\n",
            "  warnings.warn(\n",
            "Some weights of BertForSequenceClassification were not initialized from the model checkpoint at google/muril-base-cased and are newly initialized: ['classifier.bias', 'classifier.weight']\n",
            "You should probably TRAIN this model on a down-stream task to be able to use it for predictions and inference.\n",
            "/usr/local/lib/python3.10/dist-packages/transformers/training_args.py:1525: FutureWarning: `evaluation_strategy` is deprecated and will be removed in version 4.46 of 🤗 Transformers. Use `eval_strategy` instead\n",
            "  warnings.warn(\n",
            "Using the `WANDB_DISABLED` environment variable is deprecated and will be removed in v5. Use the --report_to flag to control the integrations used for logging result (for instance --report_to none).\n",
            "/usr/local/lib/python3.10/dist-packages/accelerate/accelerator.py:494: FutureWarning: `torch.cuda.amp.GradScaler(args...)` is deprecated. Please use `torch.amp.GradScaler('cuda', args...)` instead.\n",
            "  self.scaler = torch.cuda.amp.GradScaler(**kwargs)\n"
          ]
        },
        {
          "output_type": "display_data",
          "data": {
            "text/plain": [
              "<IPython.core.display.HTML object>"
            ],
            "text/html": [
              "\n",
              "    <div>\n",
              "      \n",
              "      <progress value='21000' max='21000' style='width:300px; height:20px; vertical-align: middle;'></progress>\n",
              "      [21000/21000 25:54, Epoch 3/3]\n",
              "    </div>\n",
              "    <table border=\"1\" class=\"dataframe\">\n",
              "  <thead>\n",
              " <tr style=\"text-align: left;\">\n",
              "      <th>Epoch</th>\n",
              "      <th>Training Loss</th>\n",
              "      <th>Validation Loss</th>\n",
              "      <th>Accuracy</th>\n",
              "    </tr>\n",
              "  </thead>\n",
              "  <tbody>\n",
              "    <tr>\n",
              "      <td>1</td>\n",
              "      <td>1.605600</td>\n",
              "      <td>1.604908</td>\n",
              "      <td>0.223786</td>\n",
              "    </tr>\n",
              "    <tr>\n",
              "      <td>2</td>\n",
              "      <td>1.606200</td>\n",
              "      <td>1.604844</td>\n",
              "      <td>0.270357</td>\n",
              "    </tr>\n",
              "    <tr>\n",
              "      <td>3</td>\n",
              "      <td>1.606100</td>\n",
              "      <td>1.604812</td>\n",
              "      <td>0.223786</td>\n",
              "    </tr>\n",
              "  </tbody>\n",
              "</table><p>"
            ]
          },
          "metadata": {}
        },
        {
          "output_type": "display_data",
          "data": {
            "text/plain": [
              "<IPython.core.display.HTML object>"
            ],
            "text/html": [
              "\n",
              "    <div>\n",
              "      \n",
              "      <progress value='3500' max='3500' style='width:300px; height:20px; vertical-align: middle;'></progress>\n",
              "      [3500/3500 00:43]\n",
              "    </div>\n",
              "    "
            ]
          },
          "metadata": {}
        },
        {
          "output_type": "stream",
          "name": "stdout",
          "text": [
            "Validation Accuracy: 0.2238\n"
          ]
        }
      ]
    }
  ]
}